{
 "cells": [
  {
   "cell_type": "code",
   "execution_count": 2,
   "metadata": {},
   "outputs": [],
   "source": [
    "#Import required packages\n",
    "import pandas as pd\n",
    "import numpy as np\n",
    "import matplotlib.pyplot as plt\n",
    "%matplotlib inline\n",
    "import seaborn as sns\n",
    "import warnings\n",
    "warnings.filterwarnings(\"ignore\")"
   ]
  },
  {
   "cell_type": "code",
   "execution_count": 3,
   "metadata": {},
   "outputs": [],
   "source": [
    "Ad_data = pd.read_csv(\"C:/Users/Anvesh Bandi/Desktop/DATASETS/Social_Network_Ads.csv\")"
   ]
  },
  {
   "cell_type": "code",
   "execution_count": 4,
   "metadata": {},
   "outputs": [
    {
     "data": {
      "text/html": [
       "<div>\n",
       "<style scoped>\n",
       "    .dataframe tbody tr th:only-of-type {\n",
       "        vertical-align: middle;\n",
       "    }\n",
       "\n",
       "    .dataframe tbody tr th {\n",
       "        vertical-align: top;\n",
       "    }\n",
       "\n",
       "    .dataframe thead th {\n",
       "        text-align: right;\n",
       "    }\n",
       "</style>\n",
       "<table border=\"1\" class=\"dataframe\">\n",
       "  <thead>\n",
       "    <tr style=\"text-align: right;\">\n",
       "      <th></th>\n",
       "      <th>User ID</th>\n",
       "      <th>Gender</th>\n",
       "      <th>Age</th>\n",
       "      <th>EstimatedSalary</th>\n",
       "      <th>Purchased</th>\n",
       "    </tr>\n",
       "  </thead>\n",
       "  <tbody>\n",
       "    <tr>\n",
       "      <td>0</td>\n",
       "      <td>15624510</td>\n",
       "      <td>Male</td>\n",
       "      <td>19</td>\n",
       "      <td>19000</td>\n",
       "      <td>0</td>\n",
       "    </tr>\n",
       "    <tr>\n",
       "      <td>1</td>\n",
       "      <td>15810944</td>\n",
       "      <td>Male</td>\n",
       "      <td>35</td>\n",
       "      <td>20000</td>\n",
       "      <td>0</td>\n",
       "    </tr>\n",
       "    <tr>\n",
       "      <td>2</td>\n",
       "      <td>15668575</td>\n",
       "      <td>Female</td>\n",
       "      <td>26</td>\n",
       "      <td>43000</td>\n",
       "      <td>0</td>\n",
       "    </tr>\n",
       "    <tr>\n",
       "      <td>3</td>\n",
       "      <td>15603246</td>\n",
       "      <td>Female</td>\n",
       "      <td>27</td>\n",
       "      <td>57000</td>\n",
       "      <td>0</td>\n",
       "    </tr>\n",
       "    <tr>\n",
       "      <td>4</td>\n",
       "      <td>15804002</td>\n",
       "      <td>Male</td>\n",
       "      <td>19</td>\n",
       "      <td>76000</td>\n",
       "      <td>0</td>\n",
       "    </tr>\n",
       "  </tbody>\n",
       "</table>\n",
       "</div>"
      ],
      "text/plain": [
       "    User ID  Gender  Age  EstimatedSalary  Purchased\n",
       "0  15624510    Male   19            19000          0\n",
       "1  15810944    Male   35            20000          0\n",
       "2  15668575  Female   26            43000          0\n",
       "3  15603246  Female   27            57000          0\n",
       "4  15804002    Male   19            76000          0"
      ]
     },
     "execution_count": 4,
     "metadata": {},
     "output_type": "execute_result"
    }
   ],
   "source": [
    "Ad_data.head(5)"
   ]
  },
  {
   "cell_type": "code",
   "execution_count": 5,
   "metadata": {},
   "outputs": [
    {
     "data": {
      "text/plain": [
       "<matplotlib.axes._subplots.AxesSubplot at 0x2c87c008dc8>"
      ]
     },
     "execution_count": 5,
     "metadata": {},
     "output_type": "execute_result"
    },
    {
     "data": {
      "image/png": "[encoded data removed]",
      "text/plain": [
       "<Figure size 432x288 with 1 Axes>"
      ]
     },
     "metadata": {
      "needs_background": "light"
     },
     "output_type": "display_data"
    }
   ],
   "source": [
    "#See how many users have actually purshased\n",
    "sns.countplot(x='Purchased',data = Ad_data)"
   ]
  },
  {
   "cell_type": "code",
   "execution_count": 6,
   "metadata": {},
   "outputs": [
    {
     "data": {
      "text/plain": [
       "<matplotlib.axes._subplots.AxesSubplot at 0x2c87d31ff48>"
      ]
     },
     "execution_count": 6,
     "metadata": {},
     "output_type": "execute_result"
    },
    {
     "data": {
      "image/png": "[encoded data removed]",
      "text/plain": [
       "<Figure size 432x288 with 1 Axes>"
      ]
     },
     "metadata": {
      "needs_background": "light"
     },
     "output_type": "display_data"
    }
   ],
   "source": [
    "#Check which Age groups have higher frequecy in the daaset\n",
    "Ad_data['Age'].plot.hist()"
   ]
  },
  {
   "cell_type": "code",
   "execution_count": 9,
   "metadata": {},
   "outputs": [
    {
     "data": {
      "text/plain": [
       "<matplotlib.axes._subplots.AxesSubplot at 0x2c87d3e2648>"
      ]
     },
     "execution_count": 9,
     "metadata": {},
     "output_type": "execute_result"
    },
    {
     "data": {
      "image/png": "[encoded data removed]",
      "text/plain": [
       "<Figure size 432x288 with 1 Axes>"
      ]
     },
     "metadata": {
      "needs_background": "light"
     },
     "output_type": "display_data"
    }
   ],
   "source": [
    "#plotting salary frequencies \n",
    "Ad_data['EstimatedSalary'].plot.hist()"
   ]
  },
  {
   "cell_type": "code",
   "execution_count": 10,
   "metadata": {},
   "outputs": [
    {
     "data": {
      "text/html": [
       "<div>\n",
       "<style scoped>\n",
       "    .dataframe tbody tr th:only-of-type {\n",
       "        vertical-align: middle;\n",
       "    }\n",
       "\n",
       "    .dataframe tbody tr th {\n",
       "        vertical-align: top;\n",
       "    }\n",
       "\n",
       "    .dataframe thead th {\n",
       "        text-align: right;\n",
       "    }\n",
       "</style>\n",
       "<table border=\"1\" class=\"dataframe\">\n",
       "  <thead>\n",
       "    <tr style=\"text-align: right;\">\n",
       "      <th></th>\n",
       "      <th>User ID</th>\n",
       "      <th>Age</th>\n",
       "      <th>EstimatedSalary</th>\n",
       "      <th>Purchased</th>\n",
       "    </tr>\n",
       "  </thead>\n",
       "  <tbody>\n",
       "    <tr>\n",
       "      <td>count</td>\n",
       "      <td>4.000000e+02</td>\n",
       "      <td>400.000000</td>\n",
       "      <td>400.000000</td>\n",
       "      <td>400.000000</td>\n",
       "    </tr>\n",
       "    <tr>\n",
       "      <td>mean</td>\n",
       "      <td>1.569154e+07</td>\n",
       "      <td>37.655000</td>\n",
       "      <td>69742.500000</td>\n",
       "      <td>0.357500</td>\n",
       "    </tr>\n",
       "    <tr>\n",
       "      <td>std</td>\n",
       "      <td>7.165832e+04</td>\n",
       "      <td>10.482877</td>\n",
       "      <td>34096.960282</td>\n",
       "      <td>0.479864</td>\n",
       "    </tr>\n",
       "    <tr>\n",
       "      <td>min</td>\n",
       "      <td>1.556669e+07</td>\n",
       "      <td>18.000000</td>\n",
       "      <td>15000.000000</td>\n",
       "      <td>0.000000</td>\n",
       "    </tr>\n",
       "    <tr>\n",
       "      <td>25%</td>\n",
       "      <td>1.562676e+07</td>\n",
       "      <td>29.750000</td>\n",
       "      <td>43000.000000</td>\n",
       "      <td>0.000000</td>\n",
       "    </tr>\n",
       "    <tr>\n",
       "      <td>50%</td>\n",
       "      <td>1.569434e+07</td>\n",
       "      <td>37.000000</td>\n",
       "      <td>70000.000000</td>\n",
       "      <td>0.000000</td>\n",
       "    </tr>\n",
       "    <tr>\n",
       "      <td>75%</td>\n",
       "      <td>1.575036e+07</td>\n",
       "      <td>46.000000</td>\n",
       "      <td>88000.000000</td>\n",
       "      <td>1.000000</td>\n",
       "    </tr>\n",
       "    <tr>\n",
       "      <td>max</td>\n",
       "      <td>1.581524e+07</td>\n",
       "      <td>60.000000</td>\n",
       "      <td>150000.000000</td>\n",
       "      <td>1.000000</td>\n",
       "    </tr>\n",
       "  </tbody>\n",
       "</table>\n",
       "</div>"
      ],
      "text/plain": [
       "            User ID         Age  EstimatedSalary   Purchased\n",
       "count  4.000000e+02  400.000000       400.000000  400.000000\n",
       "mean   1.569154e+07   37.655000     69742.500000    0.357500\n",
       "std    7.165832e+04   10.482877     34096.960282    0.479864\n",
       "min    1.556669e+07   18.000000     15000.000000    0.000000\n",
       "25%    1.562676e+07   29.750000     43000.000000    0.000000\n",
       "50%    1.569434e+07   37.000000     70000.000000    0.000000\n",
       "75%    1.575036e+07   46.000000     88000.000000    1.000000\n",
       "max    1.581524e+07   60.000000    150000.000000    1.000000"
      ]
     },
     "execution_count": 10,
     "metadata": {},
     "output_type": "execute_result"
    }
   ],
   "source": [
    "#Summary of dataset\n",
    "Ad_data.describe()"
   ]
  },
  {
   "cell_type": "code",
   "execution_count": 11,
   "metadata": {},
   "outputs": [
    {
     "data": {
      "text/plain": [
       "<matplotlib.axes._subplots.AxesSubplot at 0x2c875ea7808>"
      ]
     },
     "execution_count": 11,
     "metadata": {},
     "output_type": "execute_result"
    },
    {
     "data": {
      "image/png": "[encoded data removed]",
      "text/plain": [
       "<Figure size 432x288 with 1 Axes>"
      ]
     },
     "metadata": {
      "needs_background": "light"
     },
     "output_type": "display_data"
    }
   ],
   "source": [
    "#Check for any Null values\n",
    "Ad_data.isnull().sum()\n",
    "#The heatmap helps to visualise, if there are any null values\n",
    "sns.heatmap(Ad_data.isnull(), yticklabels=False, cbar=False)\n",
    "#No null values in our Dataset"
   ]
  },
  {
   "cell_type": "code",
   "execution_count": 12,
   "metadata": {},
   "outputs": [],
   "source": [
    "Ad_data=pd.get_dummies(Ad_data,columns=[\"Gender\"])"
   ]
  },
  {
   "cell_type": "code",
   "execution_count": 13,
   "metadata": {},
   "outputs": [],
   "source": [
    "Ad_data.drop('User ID',inplace = True, axis= 1)"
   ]
  },
  {
   "cell_type": "code",
   "execution_count": 14,
   "metadata": {},
   "outputs": [
    {
     "data": {
      "text/html": [
       "<div>\n",
       "<style scoped>\n",
       "    .dataframe tbody tr th:only-of-type {\n",
       "        vertical-align: middle;\n",
       "    }\n",
       "\n",
       "    .dataframe tbody tr th {\n",
       "        vertical-align: top;\n",
       "    }\n",
       "\n",
       "    .dataframe thead th {\n",
       "        text-align: right;\n",
       "    }\n",
       "</style>\n",
       "<table border=\"1\" class=\"dataframe\">\n",
       "  <thead>\n",
       "    <tr style=\"text-align: right;\">\n",
       "      <th></th>\n",
       "      <th>Age</th>\n",
       "      <th>EstimatedSalary</th>\n",
       "      <th>Purchased</th>\n",
       "      <th>Gender_Female</th>\n",
       "      <th>Gender_Male</th>\n",
       "    </tr>\n",
       "  </thead>\n",
       "  <tbody>\n",
       "    <tr>\n",
       "      <td>0</td>\n",
       "      <td>19</td>\n",
       "      <td>19000</td>\n",
       "      <td>0</td>\n",
       "      <td>0</td>\n",
       "      <td>1</td>\n",
       "    </tr>\n",
       "    <tr>\n",
       "      <td>1</td>\n",
       "      <td>35</td>\n",
       "      <td>20000</td>\n",
       "      <td>0</td>\n",
       "      <td>0</td>\n",
       "      <td>1</td>\n",
       "    </tr>\n",
       "    <tr>\n",
       "      <td>2</td>\n",
       "      <td>26</td>\n",
       "      <td>43000</td>\n",
       "      <td>0</td>\n",
       "      <td>1</td>\n",
       "      <td>0</td>\n",
       "    </tr>\n",
       "    <tr>\n",
       "      <td>3</td>\n",
       "      <td>27</td>\n",
       "      <td>57000</td>\n",
       "      <td>0</td>\n",
       "      <td>1</td>\n",
       "      <td>0</td>\n",
       "    </tr>\n",
       "    <tr>\n",
       "      <td>4</td>\n",
       "      <td>19</td>\n",
       "      <td>76000</td>\n",
       "      <td>0</td>\n",
       "      <td>0</td>\n",
       "      <td>1</td>\n",
       "    </tr>\n",
       "  </tbody>\n",
       "</table>\n",
       "</div>"
      ],
      "text/plain": [
       "   Age  EstimatedSalary  Purchased  Gender_Female  Gender_Male\n",
       "0   19            19000          0              0            1\n",
       "1   35            20000          0              0            1\n",
       "2   26            43000          0              1            0\n",
       "3   27            57000          0              1            0\n",
       "4   19            76000          0              0            1"
      ]
     },
     "execution_count": 14,
     "metadata": {},
     "output_type": "execute_result"
    }
   ],
   "source": [
    "Ad_data.head(5)"
   ]
  },
  {
   "cell_type": "code",
   "execution_count": 13,
   "metadata": {},
   "outputs": [],
   "source": [
    "x = Ad_data.drop('Purchased', axis = 1)\n",
    "y = Ad_data['Purchased']"
   ]
  },
  {
   "cell_type": "code",
   "execution_count": 14,
   "metadata": {},
   "outputs": [],
   "source": [
    "from sklearn.model_selection import train_test_split"
   ]
  },
  {
   "cell_type": "code",
   "execution_count": 15,
   "metadata": {},
   "outputs": [],
   "source": [
    "x_train,x_test,y_train,y_test = train_test_split(x,y,test_size=0.33,random_state=1)"
   ]
  },
  {
   "cell_type": "code",
   "execution_count": 16,
   "metadata": {},
   "outputs": [],
   "source": [
    "x_train[\"Age\"]=pd.cut(x_train[\"Age\"],bins=3,labels=False)\n",
    "x_train[\"EstimatedSalary\"]=pd.cut(x_train[\"EstimatedSalary\"],bins=10,labels=False)"
   ]
  },
  {
   "cell_type": "code",
   "execution_count": 19,
   "metadata": {},
   "outputs": [],
   "source": [
    "x_test[\"Age\"]=pd.cut(x_test[\"Age\"],bins=3,labels=False)\n",
    "x_test[\"EstimatedSalary\"]=pd.cut(x_test[\"EstimatedSalary\"],bins=10,labels=False)\n"
   ]
  },
  {
   "cell_type": "markdown",
   "metadata": {},
   "source": [
    "# LOGISTIC REGRESSION"
   ]
  },
  {
   "cell_type": "code",
   "execution_count": 143,
   "metadata": {
    "scrolled": true
   },
   "outputs": [],
   "source": [
    "from sklearn.linear_model import LogisticRegression\n",
    "model = LogisticRegression()\n",
    "model.fit(x_train,y_train)\n",
    "predictions = model.predict(x_test)"
   ]
  },
  {
   "cell_type": "code",
   "execution_count": 144,
   "metadata": {
    "scrolled": false
   },
   "outputs": [
    {
     "name": "stdout",
     "output_type": "stream",
     "text": [
      "Accuracy of logistic regression classifier on test set: 83.33\n",
      "confusion matrix of Logistic Regression:\n",
      "[[72  9]\n",
      " [13 38]]\n",
      "Sensitivity :  0.8888888888888888\n",
      "Specificity :  0.7450980392156863\n",
      "AUC_Logistic Regression: 0.8169934640522876\n",
      "Accuracy of LOG with Cross Validation is: 67.56347717323328\n"
     ]
    },
    {
     "data": {
      "image/png": "[encoded data removed]",
      "text/plain": [
       "<Figure size 576x360 with 1 Axes>"
      ]
     },
     "metadata": {
      "needs_background": "light"
     },
     "output_type": "display_data"
    }
   ],
   "source": [
    "from sklearn.metrics import accuracy_score, roc_curve, auc\n",
    "\n",
    "print('Accuracy of logistic regression classifier on test set: {:.2f}'.format(model.score(x_test, y_test)*100))\n",
    "\n",
    "#Confusion Matrix\n",
    "Confusion_Matrix_Log= confusion_matrix(y_test, predictions)\n",
    "print('confusion matrix of Logistic Regression:')\n",
    "print(Confusion_Matrix_Log)\n",
    "\n",
    "sensitivity = Confusion_Matrix_Log_Reg[0,0]/(Confusion_Matrix_Log_Reg[0,0]+Confusion_Matrix_Log_Reg[0,1])\n",
    "print('Sensitivity : ', sensitivity )\n",
    "\n",
    "specificity = Confusion_Matrix_Log_Reg[1,1]/(Confusion_Matrix_Log_Reg[1,0]+Confusion_Matrix_Log_Reg[1,1])\n",
    "print('Specificity : ', specificity)\n",
    "\n",
    "\n",
    "#Plotting ROC CURVE\n",
    "import sklearn.metrics as metrics\n",
    "fprlog, tprlog, _ = roc_curve(y_test, predictions)\n",
    "auc_log=auc(fprlog, tprlog)\n",
    "print(\"AUC_Logistic Regression:\", auc_log)\n",
    "roc_auc_log_reg=metrics.auc(fprlog,tprlog)\n",
    "\n",
    "plt.figure(figsize=(8,5))\n",
    "plt.title(\"ROC Curve\")\n",
    "plt.plot(fprlog,tprlog,\"b\",label=\"AUC = %0.2f\" % roc_auc_log_reg)\n",
    "\n",
    "plt.plot([0, 1],[0, 1],\"r--\")\n",
    "plt.ylabel(\"TPR\")\n",
    "plt.xlabel(\"FPR\")\n",
    "plt.legend(loc=\"right\")\n",
    "\n",
    "from sklearn.model_selection import cross_val_score\n",
    "accuracy_log_after_CV = cross_val_score(model, x, y, scoring='accuracy', cv = 10)\n",
    "#print('CVS for log1 : ', accuracy_svc)\n",
    "print(\"Accuracy of LOG with Cross Validation is:\",accuracy_log_after_CV.mean() * 100)"
   ]
  },
  {
   "cell_type": "markdown",
   "metadata": {},
   "source": [
    "# NAIVE BAYES"
   ]
  },
  {
   "cell_type": "code",
   "execution_count": 145,
   "metadata": {},
   "outputs": [
    {
     "name": "stdout",
     "output_type": "stream",
     "text": [
      "Accuracy of Naive Bayes on test set: 83.33\n",
      "confusion matrix of Naive Bayes:\n",
      "[[69 12]\n",
      " [10 41]]\n",
      "Sensitivity :  0.8518518518518519\n",
      "Specificity :  0.803921568627451\n",
      "AUC_Naive Bayes: 0.8278867102396514\n",
      "Accuracy of NB with Cross Validation is: 87.01297686053785\n"
     ]
    },
    {
     "data": {
      "image/png": "[encoded data removed]",
      "text/plain": [
       "<Figure size 576x360 with 1 Axes>"
      ]
     },
     "metadata": {
      "needs_background": "light"
     },
     "output_type": "display_data"
    }
   ],
   "source": [
    "from sklearn.naive_bayes import GaussianNB\n",
    "Naive_Bayes = GaussianNB()\n",
    "Naive_Bayes.fit(x_train, y_train)\n",
    "\n",
    "# Predicting the Test set results\n",
    "predictions_NB = Naive_Bayes.predict(x_test)\n",
    "predictions_NB\n",
    "\n",
    "print('Accuracy of Naive Bayes on test set: {:.2f}'.format(Naive_Bayes.score(x_test, y_test)*100))\n",
    "\n",
    "#Confusion Matrix\n",
    "Confusion_Matrix_NB= confusion_matrix(y_test, predictions_NB)\n",
    "print('confusion matrix of Naive Bayes:')\n",
    "print(Confusion_Matrix_NB)\n",
    "\n",
    "\n",
    "#Sensitivity & Specificity\n",
    "sensitivity = Confusion_Matrix_NB[0,0]/(Confusion_Matrix_NB[0,0]+Confusion_Matrix_NB[0,1])\n",
    "print('Sensitivity : ', sensitivity )\n",
    "\n",
    "specificity = Confusion_Matrix_NB[1,1]/(Confusion_Matrix_NB[1,0]+Confusion_Matrix_NB[1,1])\n",
    "print('Specificity : ', specificity)\n",
    "\n",
    "\n",
    "import sklearn.metrics as metrics\n",
    "fprNB, tprNB, _ = roc_curve(y_test, predictions_NB)\n",
    "auc_NB=auc(fprNB, tprNB)\n",
    "print(\"AUC_Naive Bayes:\", auc_NB)\n",
    "\n",
    "#ROC Curve\n",
    "roc_auc_NB=metrics.auc(fprNB,tprNB)\n",
    "plt.figure(figsize=(8,5))\n",
    "plt.title(\"ROC Curve\")\n",
    "plt.plot(fprNB,tprNB,\"b\",label=\"AUC = %0.2f\" % roc_auc_NB)\n",
    "\n",
    "plt.plot([0, 1],[0, 1],\"r--\")\n",
    "plt.ylabel(\"TPR\")\n",
    "plt.xlabel(\"FPR\")\n",
    "plt.legend(loc=\"right\")\n",
    "\n",
    "accuracy_NB_after_CV = cross_val_score(Naive_Bayes, x, y, scoring='accuracy', cv = 10)\n",
    "#print('CVS for log1 : ', accuracy_svc)\n",
    "print(\"Accuracy of NB with Cross Validation is:\",accuracy_NB_after_CV.mean() * 100)\n",
    "\n"
   ]
  },
  {
   "cell_type": "markdown",
   "metadata": {},
   "source": [
    "# KNN"
   ]
  },
  {
   "cell_type": "code",
   "execution_count": 146,
   "metadata": {},
   "outputs": [
    {
     "name": "stdout",
     "output_type": "stream",
     "text": [
      "Accuracy of KNN on test set: 85.61\n",
      "confusion matrix of KNN:\n",
      "[[69 12]\n",
      " [ 7 44]]\n",
      "Sensitivity :  0.8518518518518519\n",
      "Specificity :  0.8627450980392157\n",
      "AUC_KNN: 0.8572984749455338\n",
      "Accuracy of LOG with Cross Validation is: 77.71716697936209\n"
     ]
    },
    {
     "data": {
      "image/png": "[encoded data removed]",
      "text/plain": [
       "<Figure size 576x360 with 1 Axes>"
      ]
     },
     "metadata": {
      "needs_background": "light"
     },
     "output_type": "display_data"
    }
   ],
   "source": [
    "from sklearn.preprocessing import StandardScaler\n",
    "SC = StandardScaler()\n",
    "x_train = SC.fit_transform(x_train)\n",
    "x_test = SC.transform(x_test)\n",
    "\n",
    "from sklearn.neighbors import KNeighborsClassifier\n",
    "KNN = KNeighborsClassifier(n_neighbors = 5, metric = 'euclidean')\n",
    "KNN.fit(x_train, y_train)\n",
    "\n",
    "# Predicting the Test set results\n",
    "predictions_KNN = KNN.predict(x_test)\n",
    "\n",
    "yknn = KNN.predict_proba(x_test)\n",
    "\n",
    "print('Accuracy of KNN on test set: {:.2f}'.format(KNN.score(x_test, y_test)*100))\n",
    "\n",
    "Confusion_Matrix_KNN= confusion_matrix(y_test, predictions_KNN)\n",
    "print('confusion matrix of KNN:')\n",
    "print(Confusion_Matrix_KNN)\n",
    "\n",
    "\n",
    "sensitivity = Confusion_Matrix_KNN[0,0]/(Confusion_Matrix_KNN[0,0]+Confusion_Matrix_KNN[0,1])\n",
    "print('Sensitivity : ', sensitivity )\n",
    "\n",
    "specificity = Confusion_Matrix_KNN[1,1]/(Confusion_Matrix_KNN[1,0]+Confusion_Matrix_KNN[1,1])\n",
    "print('Specificity : ', specificity)\n",
    "\n",
    "\n",
    "import sklearn.metrics as metrics\n",
    "fprKNN, tprKNN, _ = roc_curve(y_test, predictions_KNN)\n",
    "auc_KNN=auc(fprKNN, tprKNN)\n",
    "print(\"AUC_KNN:\", auc_KNN)\n",
    "\n",
    "roc_auc_KNN=metrics.auc(fprKNN,tprKNN)\n",
    "\n",
    "plt.figure(figsize=(8,5))\n",
    "plt.title(\"ROC Curve\")\n",
    "plt.plot(fprNB,tprNB,\"b\",label=\"AUC = %0.2f\" % roc_auc_KNN)\n",
    "\n",
    "plt.plot([0, 1],[0, 1],\"r--\")\n",
    "plt.ylabel(\"TPR\")\n",
    "plt.xlabel(\"FPR\")\n",
    "plt.legend(loc=\"right\")\n",
    "\n",
    "accuracy_KNN_after_CV = cross_val_score(KNN, x, y, scoring='accuracy', cv = 10)\n",
    "#print('CVS for log1 : ', accuracy_svc)\n",
    "print(\"Accuracy of LOG with Cross Validation is:\",accuracy_KNN_after_CV.mean() * 100)"
   ]
  },
  {
   "cell_type": "markdown",
   "metadata": {},
   "source": [
    "# SUPPORT VECTOR MACHINES"
   ]
  },
  {
   "cell_type": "code",
   "execution_count": 147,
   "metadata": {},
   "outputs": [
    {
     "name": "stdout",
     "output_type": "stream",
     "text": [
      "Accuracy of SVM on test set:83.33\n",
      "confusion matrix of SVM:\n",
      "[[69 12]\n",
      " [10 41]]\n",
      "Sensitivity :  0.8518518518518519\n",
      "Specificity :  0.803921568627451\n",
      "AUC_SVM: 0.8278867102396514\n",
      "Accuracy of LOG with Cross Validation is: 68.51282051282051\n"
     ]
    },
    {
     "data": {
      "image/png": "[encoded data removed]",
      "text/plain": [
       "<Figure size 576x360 with 1 Axes>"
      ]
     },
     "metadata": {
      "needs_background": "light"
     },
     "output_type": "display_data"
    }
   ],
   "source": [
    "from sklearn.svm import SVC\n",
    "SVM = SVC(kernel = 'rbf', random_state = 1, probability=True)\n",
    "SVM.fit(x_train, y_train)\n",
    "\n",
    "predictions_SVM = SVM.predict(x_test)\n",
    "\n",
    "ysvm = SVM.predict_proba(x_test)\n",
    "\n",
    "print('Accuracy of SVM on test set:{:.2f}'.format(SVM.score(x_test, y_test)*100))\n",
    "\n",
    "#Confusion Matrix\n",
    "Confusion_Matrix_SVM= confusion_matrix(y_test, predictions_SVM)\n",
    "print('confusion matrix of SVM:')\n",
    "print(Confusion_Matrix_SVM)\n",
    "\n",
    "\n",
    "sensitivity = Confusion_Matrix_SVM[0,0]/(Confusion_Matrix_SVM[0,0]+Confusion_Matrix_SVM[0,1])\n",
    "print('Sensitivity : ', sensitivity )\n",
    "\n",
    "specificity = Confusion_Matrix_SVM[1,1]/(Confusion_Matrix_SVM[1,0]+Confusion_Matrix_SVM[1,1])\n",
    "print('Specificity : ', specificity)\n",
    "\n",
    "#Plotting ROC CURVE\n",
    "import sklearn.metrics as metrics\n",
    "fprSVM, tprSVM, _ = roc_curve(y_test, predictions_SVM)\n",
    "auc_SVM=auc(fprSVM, tprSVM)\n",
    "print(\"AUC_SVM:\", auc_SVM)\n",
    "roc_auc_SVM=metrics.auc(fprSVM,tprSVM)\n",
    "\n",
    "plt.figure(figsize=(8,5))\n",
    "plt.title(\"ROC Curve\")\n",
    "plt.plot(fprSVM,tprSVM,\"b\",label=\"AUC = %0.2f\" % roc_auc_SVM)\n",
    "\n",
    "plt.plot([0, 1],[0, 1],\"r--\")\n",
    "plt.ylabel(\"TPR\")\n",
    "plt.xlabel(\"FPR\")\n",
    "plt.legend(loc=\"right\")\n",
    "\n",
    "accuracy_SVM_after_CV = cross_val_score(SVM, x, y, scoring='accuracy', cv = 10)\n",
    "#print('CVS for log1 : ', accuracy_svc)\n",
    "print(\"Accuracy of LOG with Cross Validation is:\",accuracy_SVM_after_CV.mean()*100)"
   ]
  },
  {
   "cell_type": "markdown",
   "metadata": {},
   "source": [
    "# Plotting ROCs "
   ]
  },
  {
   "cell_type": "code",
   "execution_count": 148,
   "metadata": {},
   "outputs": [
    {
     "data": {
      "text/plain": [
       "Text(0.5, 0, 'TPR')"
      ]
     },
     "execution_count": 148,
     "metadata": {},
     "output_type": "execute_result"
    },
    {
     "data": {
      "image/png": "[encoded data removed]",
      "text/plain": [
       "<Figure size 720x360 with 1 Axes>"
      ]
     },
     "metadata": {
      "needs_background": "light"
     },
     "output_type": "display_data"
    }
   ],
   "source": [
    "#Plotting ROC curves of 4 Models\n",
    "roc_auc_log_reg=metrics.auc(fprlog,tprlog)\n",
    "roc_auc_KNN=metrics.auc(fprKNN,tprKNN)\n",
    "roc_auc_SVM=metrics.auc(fprSVM,tprSVM)\n",
    "roc_auc_NB=metrics.auc(fprNB,tprNB)\n",
    "plt.figure(figsize=(10,5))\n",
    "plt.title(\"ROC Curves of 4 Models\")\n",
    "plt.plot(fprlog,tprlog,label=\"AUC of Logistic Regression = %0.2f\" % roc_auc_log_reg)\n",
    "plt.plot(fprKNN,tprKNN,label=\"AUC of KNN = %0.2f\" % roc_auc_KNN)\n",
    "plt.plot(fprSVM,tprSVM,label=\"AUC of SVM = %0.2f\" % roc_auc_SVM)\n",
    "plt.plot(fprNB,tprNB,label=\"AUC of NB = %0.2f\" % roc_auc_NB)\n",
    "plt.rcParams.update({'font.size': 10})\n",
    "plt.legend(loc=\"right\")\n",
    "plt.plot([0, 1],[0, 1],\"r--\")\n",
    "plt.xlim([0, 1])\n",
    "plt.ylim([0, 1])\n",
    "plt.ylabel(\"TPR\")\n",
    "plt.xlabel(\"TPR\")"
   ]
  },
  {
   "cell_type": "code",
   "execution_count": null,
   "metadata": {},
   "outputs": [],
   "source": []
  },
  {
   "cell_type": "code",
   "execution_count": null,
   "metadata": {},
   "outputs": [],
   "source": []
  }
 ],
 "metadata": {
  "kernelspec": {
   "display_name": "Python 3",
   "language": "python",
   "name": "python3"
  },
  "language_info": {
   "codemirror_mode": {
    "name": "ipython",
    "version": 3
   },
   "file_extension": ".py",
   "mimetype": "text/x-python",
   "name": "python",
   "nbconvert_exporter": "python",
   "pygments_lexer": "ipython3",
   "version": "3.7.4"
  }
 },
 "nbformat": 4,
 "nbformat_minor": 2
}
